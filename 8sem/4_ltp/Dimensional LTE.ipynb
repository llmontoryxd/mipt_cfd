{
 "cells": [
  {
   "cell_type": "markdown",
   "metadata": {},
   "source": [
    "### Профиль Блазиуса"
   ]
  },
  {
   "cell_type": "markdown",
   "metadata": {},
   "source": [
    "Реализуйте функцию расчета профиля Блазиуса"
   ]
  },
  {
   "cell_type": "code",
   "execution_count": null,
   "metadata": {},
   "outputs": [],
   "source": [
    "import scipy.integrate as scii\n",
    "import numpy as np\n",
    "\n",
    "\n",
    "def rhs(f, t):\n",
    "    return np.array([f[1], f[2], -0.5*f[0]*f[2]])\n",
    "\n",
    "#blasius profile\n",
    "def getMesh_U_DuDy(N, y_max):\n",
    "    x = np.linspace(0, y_max, N+1)\n",
    "    y = scii.odeint(rhs, [0, 0, 1], x)\n",
    "\n",
    "    k = y[-1, 1]\n",
    "    alpha = (1. / k**1.5)**(1/3)\n",
    "    x = x / alpha\n",
    "    y[:, 0] *= alpha\n",
    "    y[:, 1] *= alpha**2\n",
    "    y[:, 2] *= alpha**3\n",
    "    return x, y[:, 1], y[:,2]"
   ]
  },
  {
   "cell_type": "markdown",
   "metadata": {},
   "source": [
    "### Вспомогательные процедуры"
   ]
  },
  {
   "cell_type": "code",
   "execution_count": null,
   "metadata": {},
   "outputs": [],
   "source": [
    "def boundary_layer_thickness(nu, u_e, x):\n",
    "    return (nu*x/u_e)**0.5\n",
    "\n",
    "def getRe_d(nu, u_e, d):\n",
    "    return u_e*d/nu\n",
    "\n",
    "def getDimensionalMesh_U_DuDy(x, u_e, nu, y_d, u_d, dudy_d):\n",
    "    d = boundary_layer_thickness(nu, u_e, x)\n",
    "    y = y_d*d\n",
    "    u = u_d*u_e\n",
    "    dudy = dudy_d*u_e/d\n",
    "    return y, u, dudy"
   ]
  },
  {
   "cell_type": "markdown",
   "metadata": {},
   "source": [
    "### Основные расчетные процедуры"
   ]
  },
  {
   "cell_type": "code",
   "execution_count": null,
   "metadata": {},
   "outputs": [],
   "source": [
    "from scipy.sparse import block_diag\n",
    "import scipy.linalg as la\n",
    "\n",
    "def get_y(j, y):\n",
    "    return y[j]\n",
    "\n",
    "def get_U(j, vels):\n",
    "    return vels[j]\n",
    "\n",
    "def get_dudy(j, grads):\n",
    "    return grads[j]\n",
    "\n",
    "def get_h(y):\n",
    "    return y[1] - y[0]\n",
    "\n",
    "# Functions to form matrix A and B from Spatial Eigenvalues problem Ax = alpha*Bx\n",
    "def getE1():\n",
    "    return np.array([[0, 0, 0],\n",
    "                     [1, 0, 0],\n",
    "                     [0, 1, 0]])\n",
    "\n",
    "def getE2(nu):\n",
    "    return np.array([[0, 1, 0],\n",
    "                     [0, 0, 0],\n",
    "                     [0, 0,-1/nu]])\n",
    "\n",
    "def getE3(omega, nu, dudy):\n",
    "    return np.array([[0, 0, 0],\n",
    "                     [1j*omega/nu, -1/nu*dudy, 0],\n",
    "                     [0, 1j*omega/nu, 0]])\n",
    "\n",
    "def getInvE4(omega, nu, u):\n",
    "    return la.inv(np.array([[-1j, 0, 0],\n",
    "                       [1j/nu*u, 0, 1j/nu],\n",
    "                       [0, 1j/nu*u, 0]]))\n",
    "\n",
    "def getA_matrix(omega, nu, N, mesh, vels, grads, comp_num = 3):\n",
    "    h = get_h(mesh)\n",
    "    matrix_list = list()\n",
    "    \n",
    "    # Form first line of matrix A\n",
    "    line = list()\n",
    "    y = get_y(1, mesh)\n",
    "    u = get_U(1, vels)\n",
    "    dudy = get_dudy(1, grads)\n",
    "    invE4 = getInvE4(omega, nu, u)\n",
    "    #E1 = invE4@getE1()\n",
    "    #E2 = invE4@getE2(nu)\n",
    "    #E3 = invE4@getE3(omega, nu, dudy)\n",
    "    E1 = np.matmul(invE4, getE1())\n",
    "    E2 = np.matmul(invE4, getE2(nu))\n",
    "    E3 = np.matmul(invE4, getE3(omega, nu, dudy))\n",
    "    L2 = E3 - 2./h**2*E1\n",
    "    line.append(L2)\n",
    "    L3 = 1./h**2*E1 + 1./(2*h)*E2\n",
    "    line.append(L3)\n",
    "    for i in range(3,N):\n",
    "        line.append(np.zeros((comp_num,comp_num)))\n",
    "    matrix_list.append(line)\n",
    "\n",
    "    # Form inner lines of matrix A\n",
    "    for i in range(2, N-1):\n",
    "        line = list()\n",
    "        y = get_y(i, mesh)\n",
    "        u = get_U(i, vels)\n",
    "        dudy = get_dudy(i, grads)\n",
    "        invE4 = getInvE4(omega, nu, u)\n",
    "        #E1 = invE4@getE1()\n",
    "        #E2 = invE4@getE2(nu)\n",
    "        #E3 = invE4@getE3(omega, nu, dudy)\n",
    "        E1 = np.matmul(invE4, getE1())\n",
    "        E2 = np.matmul(invE4, getE2(nu))\n",
    "        E3 = np.matmul(invE4, getE3(omega, nu, dudy))\n",
    "        for j in range(1, N):\n",
    "            if j==i-1:\n",
    "                L1 = 1./h**2*E1 - 1./(2*h)*E2\n",
    "                line.append(L1)\n",
    "            elif j==i:\n",
    "                L2 = E3 - 2./h**2*E1\n",
    "                line.append(L2)\n",
    "            elif j==i+1:\n",
    "                L3 = 1./h**2*E1 + 1./(2*h)*E2\n",
    "                line.append(L3)\n",
    "            else:\n",
    "                line.append(np.zeros((comp_num,comp_num)))\n",
    "        matrix_list.append(line)\n",
    "\n",
    "    # Form last line of matrix A\n",
    "    line = list()\n",
    "    for i in range(1, N-2):\n",
    "        line.append(np.zeros((comp_num,comp_num)))\n",
    "    \n",
    "    y = get_y(N-1, mesh)\n",
    "    u = get_U(N-1, vels)\n",
    "    dudy = get_dudy(N-1, grads)\n",
    "    invE4 = getInvE4(omega, nu, u)\n",
    "    #E1 = invE4@getE1()\n",
    "    #E2 = invE4@getE2(nu)\n",
    "    #E3 = invE4@getE3(omega, nu, dudy)\n",
    "    E1 = np.matmul(invE4, getE1())\n",
    "    E2 = np.matmul(invE4, getE2(nu))\n",
    "    E3 = np.matmul(invE4, getE3(omega, nu, dudy))\n",
    "    L1 = 1./h**2*E1 - 1./(2*h)*E2\n",
    "    line.append(L1)\n",
    "    L2 = E3 - 2./h**2*E1\n",
    "    line.append(L2)\n",
    "    matrix_list.append(line)\n",
    "\n",
    "    return np.bmat(matrix_list)"
   ]
  },
  {
   "cell_type": "markdown",
   "metadata": {},
   "source": [
    "## Постановка задачи"
   ]
  },
  {
   "cell_type": "code",
   "execution_count": null,
   "metadata": {},
   "outputs": [],
   "source": [
    "def getTSmode(eigvals, omega):\n",
    "    ai_min = 0\n",
    "    ar_min = 0\n",
    "    for j in range(eigvals.size):\n",
    "        ar = eigvals.real[j]\n",
    "        ai = eigvals.imag[j]\n",
    "        if  omega/u_e < ar and -150 < ai <= 0:\n",
    "            if abs(ai) > abs(ai_min):\n",
    "                ai_min = ai\n",
    "                ar_min = ar\n",
    "    return ai_min\n",
    "\n",
    "def get_y_by_eta(eta, L, g):\n",
    "    return eta*L/(g - eta)\n",
    "\n",
    "def get_g(y_e, L):\n",
    "    return 1 + L/y_e\n",
    "\n",
    "L = 1.5/2\n",
    "eta = np.linspace(0, 1, 25)\n",
    "g = get_g(3/2, L)"
   ]
  },
  {
   "cell_type": "code",
   "execution_count": null,
   "metadata": {},
   "outputs": [],
   "source": [
    "mu = 1.85e-5\n",
    "rho = 1.214\n",
    "nu = mu/rho\n",
    "u_e = 50"
   ]
  },
  {
   "cell_type": "markdown",
   "metadata": {},
   "source": [
    "### Инкременты нарастания возмущения для разных omega"
   ]
  },
  {
   "cell_type": "code",
   "execution_count": null,
   "metadata": {},
   "outputs": [],
   "source": [
    "from scipy.sparse.linalg import eigs\n",
    "from joblib import Parallel, delayed\n",
    "import multiprocessing\n",
    "from functools import partial\n",
    "\n",
    "# mesh\n",
    "N = 2000\n",
    "y_d, u_d, dudy_d = getMesh_U_DuDy(N, 10)\n",
    "\n",
    "#x_mesh = np.linspace(0.05, 3, 10)\n",
    "x_mesh = get_y_by_eta(eta, L, g)\n",
    "x_mesh = x_mesh[1:]\n",
    "omega_mesh = np.linspace(1000, 7000, 20)\n",
    "ai_for_omega = []\n",
    "\n",
    "num_cores = multiprocessing.cpu_count()\n",
    "\n",
    "def get_ai(omega) :\n",
    "    ai_s = []\n",
    "    for x in x_mesh:\n",
    "        y, u, dudy = getDimensionalMesh_U_DuDy(x, u_e, nu, y_d, u_d, dudy_d)\n",
    "        A = getA_matrix(omega, nu, N, y, u, dudy)\n",
    "        eigvals, eigvec = eigs(A, 100, sigma=2*omega/u_e, which='LM')\n",
    "        ai = getTSmode(eigvals, omega)\n",
    "        ai_s.append(ai)\n",
    "    return ai_s\n",
    "    \n",
    "ai_ = partial(get_ai)\n",
    "\n",
    "ai_for_omega = Parallel(n_jobs = num_cores)(delayed(ai_)(omega) for omega in omega_mesh)"
   ]
  },
  {
   "cell_type": "code",
   "execution_count": null,
   "metadata": {},
   "outputs": [],
   "source": [
    "#%matplotlib inline \n",
    "import matplotlib.pyplot as plt\n",
    "\n",
    "#for i in range(len(omega_mesh)):\n",
    "#    text = str(omega_mesh[i])\n",
    "#    plt.plot(x_mesh, ai_for_omega[i], label = text)\n",
    "#plt.legend()"
   ]
  },
  {
   "cell_type": "markdown",
   "metadata": {},
   "source": [
    "### Кривые усиления"
   ]
  },
  {
   "cell_type": "code",
   "execution_count": null,
   "metadata": {},
   "outputs": [],
   "source": [
    "def Nfactor(x, ai):\n",
    "    Nom = np.zeros(x.size)\n",
    "    h = x[0]\n",
    "    Nom[0] = -h/2*(ai[0])\n",
    "    for i in range(1, x.size):\n",
    "        h = x[i] - x[i-1]\n",
    "        Nom[i] = Nom[i-1] - h/2*(ai[i] + ai[i-1])\n",
    "    return Nom"
   ]
  },
  {
   "cell_type": "code",
   "execution_count": null,
   "metadata": {},
   "outputs": [],
   "source": [
    "for i in range(len(omega_mesh)):\n",
    "    spectrum = ai_for_omega[i]\n",
    "    Nom = Nfactor(x_mesh, spectrum)\n",
    "    plt.plot(x_mesh, Nom)\n",
    "\n",
    "plt.plot(0.784, 7.82, 'ro', label = 'Tu= 0,12 %')\n",
    "plt.plot(1.25, 10.7, 'ro')\n",
    "plt.plot(0.597, 6.45, 'bo',  label = 'Tu= 0,2 %')\n",
    "plt.plot(1.02, 9.32, 'bo')\n",
    "plt.ylim(0, 18)\n",
    "plt.legend()\n",
    "name = 'Расчет положений начала Л-Т перехода'\n",
    "plt.title(name)\n",
    "filename = 'N_factors_subsonic_logos.png'\n",
    "plt.savefig(filename)"
   ]
  },
  {
   "cell_type": "code",
   "execution_count": null,
   "metadata": {},
   "outputs": [],
   "source": []
  }
 ],
 "metadata": {
  "kernelspec": {
   "display_name": "Python 3",
   "language": "python",
   "name": "python3"
  },
  "language_info": {
   "codemirror_mode": {
    "name": "ipython",
    "version": 3
   },
   "file_extension": ".py",
   "mimetype": "text/x-python",
   "name": "python",
   "nbconvert_exporter": "python",
   "pygments_lexer": "ipython3",
   "version": "3.8.8"
  }
 },
 "nbformat": 4,
 "nbformat_minor": 2
}
