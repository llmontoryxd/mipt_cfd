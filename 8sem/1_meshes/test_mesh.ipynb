{
 "cells": [
  {
   "cell_type": "code",
   "execution_count": 2,
   "id": "dbff3a0b",
   "metadata": {},
   "outputs": [
    {
     "name": "stdout",
     "output_type": "stream",
     "text": [
      "Number of boundary faces = 3360\n",
      "Number of boundary parts = 5\n",
      "[41 42 44 43 45 46 48 47]\n",
      "Number of cells = 1600\n",
      "Number of vertices = 3362\n",
      "sum of volumes: 1.88e+03\n",
      "Number of faces = 6480\n",
      "Time for mesh reading = 6.35e+01 s\n"
     ]
    }
   ],
   "source": [
    "# -*- coding: utf-8 -*-\n",
    "\"\"\"\n",
    "Example: how to use mesh module\n",
    "\"\"\"\n",
    "\n",
    "import mesh as flowmod_mesh\n",
    "from mesh import Mesh\n",
    "import numpy as np\n",
    "\n",
    "import time\n",
    "\n",
    "\n",
    "path = 'mesh-cyl/'\n",
    "\n",
    "mesh = Mesh()\n",
    "t1 = time.time()\n",
    "mesh.read_starcd(path)\n",
    "t2 = time.time()\n",
    "\n",
    "print('Time for mesh reading = {0:5.2e} s'.format(t2 - t1))\n",
    "\n",
    "\n",
    "# Create random data and write it using 'write_tecplot' function \n",
    "# After that check that Tecplot opens this file and properly shows mesh\n",
    "data = np.zeros((mesh.nc, 1))\n",
    "\n",
    "for ic in range(mesh.nc) :\n",
    "#    data[ic, 0] = mesh.cell_volumes[ic] \n",
    "    data[ic, 0] = np.random.rand() * ic\n",
    "\n",
    "    \n",
    "#flowmod_mesh.write_tecplot(mesh, data, \"volumes.tec\", [\"V\"])\n",
    "flowmod_mesh.write_tecplot(mesh, data, \"first.tec\", [\"random number * index of cell\"])\n"
   ]
  },
  {
   "cell_type": "code",
   "execution_count": null,
   "id": "28a1282d",
   "metadata": {},
   "outputs": [],
   "source": []
  }
 ],
 "metadata": {
  "kernelspec": {
   "display_name": "Python 3",
   "language": "python",
   "name": "python3"
  },
  "language_info": {
   "codemirror_mode": {
    "name": "ipython",
    "version": 3
   },
   "file_extension": ".py",
   "mimetype": "text/x-python",
   "name": "python",
   "nbconvert_exporter": "python",
   "pygments_lexer": "ipython3",
   "version": "3.8.8"
  }
 },
 "nbformat": 4,
 "nbformat_minor": 5
}
