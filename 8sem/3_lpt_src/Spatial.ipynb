{
 "cells": [
  {
   "cell_type": "markdown",
   "metadata": {},
   "source": [
    "## Основные расчетные процедуры (ARPACK)"
   ]
  },
  {
   "cell_type": "code",
   "execution_count": 87,
   "metadata": {},
   "outputs": [],
   "source": [
    "%matplotlib inline \n",
    "import matplotlib.pyplot as plt\n",
    "import numpy as np\n",
    "from scipy.sparse import block_diag\n",
    "import scipy.linalg as la\n",
    "\n",
    "def boundary_layer_thickness(nu, u_e, x):\n",
    "    return (nu*x/u_e)**0.5\n",
    "\n",
    "def getRe_d(nu, u_e, d):\n",
    "    return u_e*d/nu\n",
    "\n",
    "def get_y(j, y):\n",
    "    return y[j]\n",
    "\n",
    "def get_U(j, vels):\n",
    "    return vels[j]\n",
    "\n",
    "def get_dudy(j, grads):\n",
    "    return grads[j]\n",
    "\n",
    "def get_h(y):\n",
    "    return y[1] - y[0]\n",
    "\n",
    "# Functions to form matrix A and B from Spatial Eigenvalues problem Ax = alpha*Bx\n",
    "def getE1():\n",
    "    return np.array([[0, 0, 0],\n",
    "                     [1, 0, 0],\n",
    "                     [0, 1, 0]])\n",
    "\n",
    "def getE2(Re):\n",
    "    return np.array([[0, 1, 0],\n",
    "                     [0, 0, 0],\n",
    "                     [0, 0,-Re]])\n",
    "\n",
    "def getE3(omega, Re, dudy):\n",
    "    return np.array([[0, 0, 0],\n",
    "                     [1j*omega*Re, -Re*dudy, 0],\n",
    "                     [0, 1j*omega*Re, 0]])\n",
    "\n",
    "def getInvE4(omega, Re, u):\n",
    "    return la.inv(np.array([[-1j, 0, 0],\n",
    "                       [1j*Re*u, 0, 1j*Re],\n",
    "                       [0, 1j*Re*u, 0]]))\n",
    "\n",
    "def getA_matrix(omega, Re, N, mesh, vels, grads, comp_num = 3):\n",
    "    h = get_h(mesh)\n",
    "    matrix_list = list()\n",
    "    \n",
    "    # Form first line of matrix A\n",
    "    line = list()\n",
    "    y = get_y(1, mesh)\n",
    "    u = get_U(1, vels)\n",
    "    dudy = get_dudy(1, grads)\n",
    "    invE4 = getInvE4(omega, Re, u)\n",
    "    E1 = invE4@getE1()\n",
    "    E2 = invE4@getE2(Re)\n",
    "    E3 = invE4@getE3(omega, Re, dudy)\n",
    "    L2 = E3 - 2./h**2*E1\n",
    "    line.append(L2)\n",
    "    L3 = 1./h**2*E1 + 1./(2*h)*E2\n",
    "    line.append(L3)\n",
    "    for i in range(3,N):\n",
    "        line.append(np.zeros((comp_num,comp_num)))\n",
    "    matrix_list.append(line)\n",
    "\n",
    "    # Form inner lines of matrix A\n",
    "    for i in range(2, N-1):\n",
    "        line = list()\n",
    "        y = get_y(i, mesh)\n",
    "        u = get_U(i, vels)\n",
    "        dudy = get_dudy(i, grads)\n",
    "        invE4 = getInvE4(omega, Re, u)\n",
    "        E1 = invE4@getE1()\n",
    "        E2 = invE4@getE2(Re)\n",
    "        E3 = invE4@getE3(omega, Re, dudy)\n",
    "        for j in range(1, N):\n",
    "            if j==i-1:\n",
    "                L1 = 1./h**2*E1 - 1./(2*h)*E2\n",
    "                line.append(L1)\n",
    "            elif j==i:\n",
    "                L2 = E3 - 2./h**2*E1\n",
    "                line.append(L2)\n",
    "            elif j==i+1:\n",
    "                L3 = 1./h**2*E1 + 1./(2*h)*E2\n",
    "                line.append(L3)\n",
    "            else:\n",
    "                line.append(np.zeros((comp_num,comp_num)))\n",
    "        matrix_list.append(line)\n",
    "\n",
    "    # Form last line of matrix A\n",
    "    line = list()\n",
    "    for i in range(1, N-2):\n",
    "        line.append(np.zeros((comp_num,comp_num)))\n",
    "    \n",
    "    y = get_y(N-1, mesh)\n",
    "    u = get_U(N-1, vels)\n",
    "    dudy = get_dudy(N-1, grads)\n",
    "    invE4 = getInvE4(omega, Re, u)\n",
    "    E1 = invE4@getE1()\n",
    "    E2 = invE4@getE2(Re)\n",
    "    E3 = invE4@getE3(omega, Re, dudy)\n",
    "    L1 = 1./h**2*E1 - 1./(2*h)*E2\n",
    "    line.append(L1)\n",
    "    L2 = E3 - 2./h**2*E1\n",
    "    line.append(L2)\n",
    "    matrix_list.append(line)\n",
    "\n",
    "    return np.bmat(matrix_list)"
   ]
  },
  {
   "cell_type": "markdown",
   "metadata": {},
   "source": [
    "## Профиль Блазиуса\n",
    "\n",
    "Собственно все изменения надо сделать только здесь. В случае правильной реализации последний график со сперктром у вас совпадет с данными из статьи paper_data. Дополнительно проведите исследование как зависит решение от числа узлов сетки $N$. Опишите результат, приложите графики. Есть ли в спектре неустойчивые моды? Если да - укажите их."
   ]
  },
  {
   "cell_type": "code",
   "execution_count": 104,
   "metadata": {},
   "outputs": [],
   "source": [
    "import scipy.integrate as scii\n",
    "import numpy as np\n",
    "\n",
    "# свести к системы ОДУ первого порядка\n",
    "def rhs(f, t):\n",
    "    return np.array([\"todo: Правая часть системы\"])\n",
    "\n",
    "#blasius profile\n",
    "def getMesh_U_DuDy(N, y_max):\n",
    "    x = np.linspace(0, y_max, N+1)\n",
    "    y = #todo\n",
    "\n",
    "    x = #todo\n",
    "    y[:, 0] = #todo\n",
    "    y[:, 1] = #todo\n",
    "    y[:, 2] = #todo\n",
    "    return x, y[:, 1], y[:,2]\n",
    "\n",
    "# mesh\n",
    "N = 500\n",
    "# функция возвращает сетку, продольную скорость \n",
    "# и ее производную в погранслойных переменных (\\eta) \n",
    "y_d, u_d, dudy_d = getMesh_U_DuDy(N, 15) "
   ]
  },
  {
   "cell_type": "markdown",
   "metadata": {},
   "source": [
    "## Постановка задачи в размерных переменных"
   ]
  },
  {
   "cell_type": "code",
   "execution_count": 93,
   "metadata": {},
   "outputs": [],
   "source": [
    "mu = 1.85e-5\n",
    "rho = 1.214\n",
    "nu = mu/rho\n",
    "u_e = 50\n",
    "L = 3\n",
    "\n",
    "omega_d = 0.26/1.72\n",
    "Re_d = 1000/1.72\n",
    "x = nu/u_e*Re_d**2\n",
    "d = boundary_layer_thickness(nu, u_e, x)\n",
    "\n",
    "omega = omega_d*(u_e/d)\n",
    "Re = 1/nu\n",
    "\n",
    "y = y_d*d\n",
    "u = u_d*u_e\n",
    "dudy = dudy_d*u_e/d"
   ]
  },
  {
   "cell_type": "code",
   "execution_count": 105,
   "metadata": {},
   "outputs": [],
   "source": [
    "from scipy.sparse.linalg import eigs\n",
    "\n",
    "A = getA_matrix(omega, Re, N, y, u, dudy)\n",
    "eigvals, eigvec = eigs(A, 140, sigma=omega/u_e, which='LM')\n",
    "\n",
    "#обезразмерим alpha\n",
    "eigvals = eigvals*d"
   ]
  },
  {
   "cell_type": "code",
   "execution_count": 106,
   "metadata": {},
   "outputs": [
    {
     "data": {
      "text/plain": [
       "Text(0, 0.5, 'a_im')"
      ]
     },
     "execution_count": 106,
     "metadata": {},
     "output_type": "execute_result"
    },
    {
     "data": {
      "image/png": "[encoded data removed]",
      "text/plain": [
       "<Figure size 432x288 with 1 Axes>"
      ]
     },
     "metadata": {
      "needs_background": "light"
     },
     "output_type": "display_data"
    }
   ],
   "source": [
    "%matplotlib inline \n",
    "import matplotlib.pyplot as plt\n",
    "\n",
    "paper_data = np.array([[0.2600153645394847,0.005216576864792044],\n",
    "                       [0.2649509597575349,0.04520717573104338],\n",
    "                       [0.267293525846102,0.08786938036706515],\n",
    "                       [0.2709547061794915,0.12519574002357303],\n",
    "                       [0.2732972722680586,0.1678579446595948],\n",
    "                       [0.27947781613066175,0.2158461721950946],\n",
    "                       [0.28170988381882467,0.27850858730426],\n",
    "                       [0.28521636639164843,0.3438352416231689],\n",
    "                       [0.28491433743054384,0.3985024835830948],\n",
    "                       [0.28456810910927766,0.46116980973227817],\n",
    "                       [0.28552576191277995,0.5211679856317001],\n",
    "                       [0.29872663748105743,0.23180950777347475],\n",
    "                       [0.5419115170904193,0.08201296514564738],\n",
    "                       [0.7428786411853847,0.3402968372902284],\n",
    "                       [0.28653498063647076,0.5718327299769883]])\n",
    "\n",
    "paper_data /= 1.72\n",
    "\n",
    "#fig = plt.figure()\n",
    "plt.plot(paper_data[:,0], paper_data[:,1], 'xr', label='Paper') # test case for omega = 0.26\n",
    "plt.plot(eigvals.real, eigvals.imag, 'ob', label='Numerical')\n",
    "#plt.legend()\n",
    "plt.xlim(0, 0.5)\n",
    "plt.ylim(-0.1, 0.3)\n",
    "# plt.xlim(0, 1)\n",
    "# plt.ylim(0, 10)\n",
    "plt.grid() \n",
    "plt.xlabel('a_re')\n",
    "plt.ylabel('a_im')"
   ]
  }
 ],
 "metadata": {
  "kernelspec": {
   "display_name": "Python 3",
   "language": "python",
   "name": "python3"
  },
  "language_info": {
   "codemirror_mode": {
    "name": "ipython",
    "version": 3
   },
   "file_extension": ".py",
   "mimetype": "text/x-python",
   "name": "python",
   "nbconvert_exporter": "python",
   "pygments_lexer": "ipython3",
   "version": "3.6.5"
  }
 },
 "nbformat": 4,
 "nbformat_minor": 2
}
